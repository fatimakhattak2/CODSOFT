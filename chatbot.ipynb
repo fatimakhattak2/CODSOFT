{
  "cells": [
    {
      "cell_type": "markdown",
      "metadata": {
        "id": "view-in-github",
        "colab_type": "text"
      },
      "source": [
        "<a href=\"https://colab.research.google.com/github/fatimakhattak2/CODSOFT/blob/main/chatbot.ipynb\" target=\"_parent\"><img src=\"https://colab.research.google.com/assets/colab-badge.svg\" alt=\"Open In Colab\"/></a>"
      ]
    },
    {
      "cell_type": "code",
      "source": [
        "import time\n",
        "\n",
        "def get_current_time():\n",
        "    return time.ctime()\n",
        "\n",
        "qna = {\n",
        "    \"Assalamualaikum\": \"Walaikumasalam\",\n",
        "    \"Tap to leave a space\": \"-----------\",\n",
        "    \"Can i please know your good Name?\": \"Yes my name is Fatima\",\n",
        "    \"Tap to leave a space\": \"-----------\",\n",
        "    \"Why are you writing this source code?\": \"As I've applied for an internship at CODSOFT, so I'm assigned with a task\",\n",
        "    \"Tap to leave a space\": \"-----------\",\n",
        "    \"Glad to hear that\": \"Thank You!\",\n",
        "    \"Tap to leave a space\": \"-----------\",\n",
        "    \"Well i need to visit a place, will u plz tell me what time is it right now?, as im in quick rush :) \": get_current_time(),\n",
        "}\n",
        "\n",
        "while True:\n",
        "    qs = input()\n",
        "    if qs == \"quit\":\n",
        "        break\n",
        "    elif qs in qna:\n",
        "        if qs == \"Well i need to visit a place, will u plz tell me what time is it right now?, as im in quick rush :) \":\n",
        "            qna[qs] = get_current_time()  # Update current time dynamically\n",
        "        print(qna[qs])\n",
        "    else:\n",
        "        print(\"I'm sorry, I don't have an answer for that.\")\n"
      ],
      "metadata": {
        "colab": {
          "base_uri": "https://localhost:8080/"
        },
        "id": "xYxpd3DdwL-B",
        "outputId": "e341683c-a734-4833-8f7a-12b779ff4113"
      },
      "execution_count": null,
      "outputs": [
        {
          "output_type": "stream",
          "name": "stdout",
          "text": [
            "Assalamualaikum\n",
            "Walaikumasalam\n",
            "Tap to leave a space\n",
            "-----------\n",
            "Can i please know your good Name?\n",
            "Yes my name is Fatima\n",
            "Tap to leave a space\n",
            "-----------\n",
            "Why are you writing this source code?\n",
            "As I've applied for an internship at CODSOFT, so I'm assigned with a task\n",
            "Tap to leave a space\n",
            "-----------\n",
            "Glad to hear that\n",
            "Thank You!\n",
            "Tap to leave a space\n",
            "-----------\n",
            "Well i need to visit a place, will u plz tell me what time is it right now?, as im in quick rush :)\n",
            "I'm sorry, I don't have an answer for that.\n"
          ]
        }
      ]
    }
  ],
  "metadata": {
    "colab": {
      "provenance": [],
      "authorship_tag": "ABX9TyMO02JfnCMW5CHSyh0U+omp",
      "include_colab_link": true
    },
    "kernelspec": {
      "display_name": "Python 3",
      "name": "python3"
    },
    "language_info": {
      "name": "python"
    }
  },
  "nbformat": 4,
  "nbformat_minor": 0
}